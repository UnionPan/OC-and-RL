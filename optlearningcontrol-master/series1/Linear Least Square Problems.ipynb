{
 "cells": [
  {
   "cell_type": "markdown",
   "metadata": {},
   "source": [
    "# Linear Least Square Problems\n",
    "\n",
    "We have seen in the class that various problems of fitting a polynomial to experimental data could be written as a quadratic program. \n",
    "\n",
    "Let's assume that we have collected $N$ data points as pairs $(x_i, y_i)$. These data points might be corrupted by noise and we would like to find a functional relationship between $x$ and $y$ as a polynomial of degree $K$\n",
    "\\begin{equation}\n",
    "y = \\sum_{k=0}^{K} a_k x^k\n",
    "\\end{equation}\n",
    "\n",
    "For example, we might want to find a polynomial of degree 1 (i.e. a linear function)\n",
    "$$ y = a_0 + a_1 x$$\n",
    "that best explain the data. This means that we seek to find the coefficients $a_0$ and $a_1$ that best explain the data.\n",
    "\n",
    "Assuming that the data has been corrupted by noise, we assume that for each data point we have\n",
    "$$ y_i = \\sum_{k=0}^{K} a_k x_i^k + e_i$$\n",
    "where $e_i$ is the noise (or error) coming from sample $i$. Here we seek to find the values of the parameters $a_k$, for a given degree K such that the sum of square of the errors is minimized. This means that we want to solve the following problem\n",
    "$$\\min_{a_0 \\cdots a_K} \\sum_{i=0}^{N-1} e_i^2$$\n",
    "which is equivalent to\n",
    "$$\\min_{a_0 \\cdots a_K} \\sum_{i=0}^{N-1} (\\sum_{k=0}^{K} a_k x_i^k - y_i)^2$$\n",
    "We can write these relations in matrix form by noticing that\n",
    "$$\\sum_{k=0}^{K} a_k x_i^k = \\begin{bmatrix}1& x_i& x_i^2& \\cdots& x_i^K\\end{bmatrix}\\begin{bmatrix}a_0\\\\ a_1 \\\\ a_2 \\\\ \\vdots \\\\ a_K\\end{bmatrix} $$\n",
    "Using all the data points and the knowledge of the degree K and we can then construct the $N \\times K$ matrix\n",
    "$$ X = \\begin{bmatrix} 1& x_0& x_0^2& \\cdots& x_0^K \\\\ 1& x_1& x_1^2& \\cdots& x_1^K \\\\ \\vdots&\\vdots&\\vdots&\\vdots&\\vdots \\\\ 1& x_{N-1}& x_{N-1}^2& \\cdots& x_{N-1}^K \\end{bmatrix}$$\n",
    "and the vector\n",
    "$$Y = \\begin{bmatrix} y_0 \\\\ y_1 \\\\ \\vdots \\\\ y_{N-1} \\end{bmatrix}$$\n",
    "where each row $i$ of $X$ and $Y$ is defined by the sample $i$ from the dataset.\n",
    "We also write \n",
    "$$a = \\begin{bmatrix} a_0 \\\\ a_1 \\\\ \\vdots \\\\ a_K \\end{bmatrix}$$\n",
    "We now have\n",
    "$$Xa - Y = \\begin{bmatrix} \\sum_{k=0}^{K} a_k x_0^k - y_0 \\\\ \\sum_{k=0}^{K} a_k x_1^k - y_1 \\\\ \\vdots \\\\ \\sum_{k=0}^{K} a_k x_{N-1}^k - y_{N-1} \\end{bmatrix} $$\n",
    "and the original problem can be written as\n",
    "$$\\min_a (Xa - Y)^T (Xa - Y)$$\n",
    "which is equal to\n",
    "$$\\min_a a^T X^T X a - 2 Y^TXa + Y^2$$\n",
    "The problem is the minimization of a quadratic function, which is convex, and therefore the necessary and sufficient conditions to find the minimum of the function is to find the value of $a$ that makes the gradient 0\n",
    "$$\\frac{\\partial}{\\partial a} \\left(a^T X^T X a - 2 Y^TXa + Y^2 \\right) = 2 X^T X a - 2X^T Y = 0$$\n",
    "If the matrix $X^TX$ is full rank and we can invert it (which will be the case if there is enough data points which are different enough) then the solution to the problem is\n",
    "$$ a = (X^T X)^{-1} X^T Y$$"
   ]
  },
  {
   "cell_type": "markdown",
   "metadata": {},
   "source": [
    "## Examples - fitting a linear function\n",
    "Here we generate a set of data from a linear function + noise and show how we can get an estimate of the function using the least square method\n",
    "\n",
    "First we generate random data points from a linear function + Gaussian noise"
   ]
  },
  {
   "cell_type": "code",
   "execution_count": 3,
   "metadata": {},
   "outputs": [
    {
     "data": {
      "text/plain": [
       "Text(0.5, 1.0, 'Randomly generated data points')"
      ]
     },
     "execution_count": 3,
     "metadata": {},
     "output_type": "execute_result"
    },
    {
     "data": {
      "image/png": "[encoded data removed]",
      "text/plain": [
       "<Figure size 432x288 with 1 Axes>"
      ]
     },
     "metadata": {
      "needs_background": "light"
     },
     "output_type": "display_data"
    }
   ],
   "source": [
    "%matplotlib inline\n",
    "import numpy as np\n",
    "import matplotlib as mp\n",
    "import matplotlib.pyplot as plt\n",
    "from IPython.display import display, Markdown\n",
    "\n",
    "# generating 100 random data points\n",
    "data_x = np.random.uniform(-10., 10., 100) # we randomly draw x uniformly\n",
    "data_y = 5. * data_x + 2. + np.random.normal(scale=3.0, size=len(data_x)) # we add noise to y\n",
    "\n",
    "plt.figure()\n",
    "plt.plot(data_x, data_y, 'x')\n",
    "plt.title('Randomly generated data points')"
   ]
  },
  {
   "cell_type": "markdown",
   "metadata": {},
   "source": [
    "Now we can compute the least square fit  and get an estimate of $a_0$ and $a_1$. First we construct the regression matrices $X$ and $Y$ and then use the solution we computed above."
   ]
  },
  {
   "cell_type": "code",
   "execution_count": 4,
   "metadata": {},
   "outputs": [],
   "source": [
    "def do_regression(data_x, data_y, degree):\n",
    "    \"\"\"\n",
    "    This function perform linear least squares to find a polynomial that fits the data\n",
    "    \n",
    "    Arguments:\n",
    "    data_x: numpy array (1D) that contains the x data\n",
    "    data_Y: numpy array (1D) that contains the y data\n",
    "    degree: degree of  the polynomial to fit (1 is for a line)\n",
    "    \n",
    "    returns: an array of paramters for the fit\n",
    "    \"\"\"\n",
    "    X = np.empty([len(data_x), degree+1])\n",
    "    Y = np.empty([len(data_y)])\n",
    "    # for each data point\n",
    "    for i,x in enumerate(data_x):\n",
    "        for j in range(degree+1):\n",
    "            X[i,j] = x**j\n",
    "        Y[i] = data_y[i]\n",
    "    \n",
    "    #construct X^T X\n",
    "    XTX = X.transpose().dot(X)\n",
    "    \n",
    "    a = np.linalg.solve(XTX, X.transpose().dot(Y))\n",
    "    \n",
    "    fitting_error = (X.dot(a) - Y).dot(X.dot(a) - Y)\n",
    "    \n",
    "    return a, fitting_error"
   ]
  },
  {
   "cell_type": "code",
   "execution_count": 5,
   "metadata": {},
   "outputs": [
    {
     "data": {
      "text/markdown": [
       "***Fitting results***"
      ],
      "text/plain": [
       "<IPython.core.display.Markdown object>"
      ]
     },
     "metadata": {},
     "output_type": "display_data"
    },
    {
     "data": {
      "text/markdown": [
       "the regressed values are 2.788816 and 5.061747"
      ],
      "text/plain": [
       "<IPython.core.display.Markdown object>"
      ]
     },
     "metadata": {},
     "output_type": "display_data"
    },
    {
     "data": {
      "text/markdown": [
       "the fitting error is 824.737062"
      ],
      "text/plain": [
       "<IPython.core.display.Markdown object>"
      ]
     },
     "metadata": {},
     "output_type": "display_data"
    },
    {
     "data": {
      "text/plain": [
       "Text(0.5, 1.0, 'Randomly generated data points and fitted function')"
      ]
     },
     "execution_count": 5,
     "metadata": {},
     "output_type": "execute_result"
    },
    {
     "data": {
      "image/png": "[encoded data removed]",
      "text/plain": [
       "<Figure size 432x288 with 1 Axes>"
      ]
     },
     "metadata": {
      "needs_background": "light"
     },
     "output_type": "display_data"
    }
   ],
   "source": [
    "a, fitting_error = do_regression(data_x, data_y, 1)\n",
    "\n",
    "display(Markdown('***Fitting results***'))\n",
    "display(Markdown('the regressed values are ' + '%f'%a[0] + ' and ' + '%f'%a[1]))\n",
    "display(Markdown('the fitting error is ' +  '%f'%fitting_error))\n",
    "\n",
    "plt.figure()\n",
    "plt.plot(data_x, data_y, 'x')\n",
    "plt.plot(data_x, a[0] + a[1]*data_x)\n",
    "plt.title('Randomly generated data points and fitted function')"
   ]
  },
  {
   "cell_type": "markdown",
   "metadata": {},
   "source": [
    "In the figure above we see in orange the recovered linear function from the data. Note here that we do not recover the true linear function but only an approximation. It is because the data has been corrupted by noise. You can try and see how this fit changes when noise increases or decreases.\n",
    "\n",
    "In the following  we do the same with data points generated by a quadratic model and compare various fits"
   ]
  },
  {
   "cell_type": "code",
   "execution_count": 6,
   "metadata": {},
   "outputs": [
    {
     "data": {
      "text/markdown": [
       "***Fitting results for the linear model***"
      ],
      "text/plain": [
       "<IPython.core.display.Markdown object>"
      ]
     },
     "metadata": {},
     "output_type": "display_data"
    },
    {
     "data": {
      "text/markdown": [
       "the regressed values are 65.116778 and 1.432303"
      ],
      "text/plain": [
       "<IPython.core.display.Markdown object>"
      ]
     },
     "metadata": {},
     "output_type": "display_data"
    },
    {
     "data": {
      "text/markdown": [
       "the fitting error is 324065.635215"
      ],
      "text/plain": [
       "<IPython.core.display.Markdown object>"
      ]
     },
     "metadata": {},
     "output_type": "display_data"
    },
    {
     "data": {
      "text/markdown": [
       "***Fitting results for the quadratic model***"
      ],
      "text/plain": [
       "<IPython.core.display.Markdown object>"
      ]
     },
     "metadata": {},
     "output_type": "display_data"
    },
    {
     "data": {
      "text/markdown": [
       "the regressed values are 1.443989, 1.392804 and 1.998574"
      ],
      "text/plain": [
       "<IPython.core.display.Markdown object>"
      ]
     },
     "metadata": {},
     "output_type": "display_data"
    },
    {
     "data": {
      "text/markdown": [
       "the fitting error is 2252.354502"
      ],
      "text/plain": [
       "<IPython.core.display.Markdown object>"
      ]
     },
     "metadata": {},
     "output_type": "display_data"
    },
    {
     "data": {
      "text/markdown": [],
      "text/plain": [
       "<IPython.core.display.Markdown object>"
      ]
     },
     "metadata": {},
     "output_type": "display_data"
    },
    {
     "data": {
      "text/markdown": [
       "We notice that the fit of the quadratic model leads to a lower fitting error and a much better fit"
      ],
      "text/plain": [
       "<IPython.core.display.Markdown object>"
      ]
     },
     "metadata": {},
     "output_type": "display_data"
    },
    {
     "data": {
      "text/plain": [
       "Text(0.5, 1.0, 'Randomly generated data points and fitted linear and quadratic functions')"
      ]
     },
     "execution_count": 6,
     "metadata": {},
     "output_type": "execute_result"
    },
    {
     "data": {
      "image/png": "[encoded data removed]",
      "text/plain": [
       "<Figure size 432x288 with 1 Axes>"
      ]
     },
     "metadata": {
      "needs_background": "light"
     },
     "output_type": "display_data"
    }
   ],
   "source": [
    "# generating 100 random data points\n",
    "data_x = np.random.uniform(-10., 10., 100) # we randomly draw x uniformly\n",
    "data_y = 2. * data_x**2 + 1.5*data_x + 1. + np.random.normal(scale=5.0, size=len(data_x)) # we add noise to y\n",
    "\n",
    "# we now fit the data with a linear model\n",
    "a, fitting_error = do_regression(data_x, data_y, 1)\n",
    "\n",
    "# and we a quadratic model\n",
    "b, fitting_error2 = do_regression(data_x, data_y, 2)\n",
    "\n",
    "display(Markdown('***Fitting results for the linear model***'))\n",
    "display(Markdown('the regressed values are ' + '%f'%a[0] + ' and ' + '%f'%a[1]))\n",
    "display(Markdown('the fitting error is ' +  '%f'%fitting_error))\n",
    "\n",
    "display(Markdown('***Fitting results for the quadratic model***'))\n",
    "display(Markdown('the regressed values are ' + '%f'%b[0] + ', ' + '%f'%b[1] + ' and ' + '%f'%b[2]))\n",
    "display(Markdown('the fitting error is ' +  '%f'%fitting_error2))\n",
    "display(Markdown(''))\n",
    "display(Markdown('We notice that the fit of the quadratic model leads to a lower fitting error and a much better fit'))\n",
    "\n",
    "plt.figure()\n",
    "# we sort the data to make the plot pretty\n",
    "plot_x = np.sort(data_x)\n",
    "plt.plot(data_x, data_y, 'x')\n",
    "plt.plot(plot_x, a[0] + a[1]*plot_x)\n",
    "plt.plot(plot_x, b[0] + b[1]*plot_x + b[2]*plot_x**2)\n",
    "plt.title('Randomly generated data points and fitted linear and quadratic functions')"
   ]
  },
  {
   "cell_type": "code",
   "execution_count": 15,
   "metadata": {},
   "outputs": [
    {
     "name": "stdout",
     "output_type": "stream",
     "text": [
      "[ 2.00000000e+02 -3.51115111e+01  1.59931374e+03 -7.70802870e+02\n",
      "  2.34214344e+04 -1.64651145e+04  4.12451557e+05 -3.66899598e+05\n",
      "  7.95925649e+06 -8.38895789e+06 -3.51115111e+01  1.59931374e+03\n",
      " -7.70802870e+02  2.34214344e+04 -1.64651145e+04  4.12451557e+05\n",
      " -3.66899598e+05  7.95925649e+06 -8.38895789e+06  1.62337931e+08\n",
      "  1.59931374e+03 -7.70802870e+02  2.34214344e+04 -1.64651145e+04\n",
      "  4.12451557e+05 -3.66899598e+05  7.95925649e+06 -8.38895789e+06\n",
      "  1.62337931e+08 -1.94655808e+08 -7.70802870e+02  2.34214344e+04\n",
      " -1.64651145e+04  4.12451557e+05 -3.66899598e+05  7.95925649e+06\n",
      " -8.38895789e+06  1.62337931e+08 -1.94655808e+08  3.43723683e+09\n",
      "  2.34214344e+04 -1.64651145e+04  4.12451557e+05 -3.66899598e+05\n",
      "  7.95925649e+06 -8.38895789e+06  1.62337931e+08 -1.94655808e+08\n",
      "  3.43723683e+09 -4.55916952e+09 -1.64651145e+04  4.12451557e+05\n",
      " -3.66899598e+05  7.95925649e+06 -8.38895789e+06  1.62337931e+08\n",
      " -1.94655808e+08  3.43723683e+09 -4.55916952e+09  7.47718716e+10\n",
      "  4.12451557e+05 -3.66899598e+05  7.95925649e+06 -8.38895789e+06\n",
      "  1.62337931e+08 -1.94655808e+08  3.43723683e+09 -4.55916952e+09\n",
      "  7.47718716e+10 -1.07515658e+11 -3.66899598e+05  7.95925649e+06\n",
      " -8.38895789e+06  1.62337931e+08 -1.94655808e+08  3.43723683e+09\n",
      " -4.55916952e+09  7.47718716e+10 -1.07515658e+11  1.66012871e+12\n",
      "  7.95925649e+06 -8.38895789e+06  1.62337931e+08 -1.94655808e+08\n",
      "  3.43723683e+09 -4.55916952e+09  7.47718716e+10 -1.07515658e+11\n",
      "  1.66012871e+12 -2.54974845e+12 -8.38895789e+06  1.62337931e+08\n",
      " -1.94655808e+08  3.43723683e+09 -4.55916952e+09  7.47718716e+10\n",
      " -1.07515658e+11  1.66012871e+12 -2.54974845e+12  3.74513344e+13]\n",
      "[ 6.96492234e+05  9.20770007e+04  9.14298163e+04  2.13669013e+04\n",
      "  2.12436363e+04  2.09728581e+04  2.09668662e+04  2.09572454e+04\n",
      "  2.05491291e+04  2.05464665e+04  2.04594003e+04  2.03529625e+04\n",
      "  2.02995975e+04  1.91963407e+04  1.86659374e+04  1.86055448e+04\n",
      "  1.85675907e+04  1.85639624e+04  1.85404949e+04  1.84401730e+04\n",
      "  1.84354581e+04  1.84338049e+04  1.83798763e+04  3.77452252e+04\n",
      "  1.88774662e+04  1.82625199e+04  1.82416322e+04  1.87381915e+04\n",
      "  1.81921118e+04  1.80460756e+04  1.92664202e+04  1.79836878e+04\n",
      "  1.83463286e+04  1.81851832e+04  1.81250688e+04  1.80027431e+04\n",
      "  1.79776344e+04  1.79594398e+04  1.79619653e+04  1.79978701e+04\n",
      "  1.79648955e+04  1.81119393e+04  1.81000076e+04  1.14793598e+08\n",
      "  1.87195974e+04  2.20727857e+04  1.82618980e+04  1.78688686e+04\n",
      "  1.78856150e+04  1.95553303e+04 -1.64651145e+04  4.12451557e+05\n",
      " -3.66899598e+05  7.95925649e+06 -8.38895789e+06  1.62337931e+08\n",
      " -1.94655808e+08  3.43723683e+09 -4.55916952e+09  7.47718716e+10\n",
      "  4.12451557e+05 -3.66899598e+05  7.95925649e+06 -8.38895789e+06\n",
      "  1.62337931e+08 -1.94655808e+08  3.43723683e+09 -4.55916952e+09\n",
      "  7.47718716e+10 -1.07515658e+11 -3.66899598e+05  7.95925649e+06\n",
      " -8.38895789e+06  1.62337931e+08 -1.94655808e+08  3.43723683e+09\n",
      " -4.55916952e+09  7.47718716e+10 -1.07515658e+11  1.66012871e+12\n",
      "  7.95925649e+06 -8.38895789e+06  1.62337931e+08 -1.94655808e+08\n",
      "  3.43723683e+09 -4.55916952e+09  7.47718716e+10 -1.07515658e+11\n",
      "  1.66012871e+12 -2.54974845e+12 -8.38895789e+06  1.62337931e+08\n",
      " -1.94655808e+08  3.43723683e+09 -4.55916952e+09  7.47718716e+10\n",
      " -1.07515658e+11  1.66012871e+12 -2.54974845e+12  3.74513344e+13]\n"
     ]
    }
   ],
   "source": [
    "data = np.loadtxt(\"regression_dataset\")\n",
    "X = data[:,0]\n",
    "Y = data[:,1]\n",
    "max_d = 50\n",
    "error = np.empty(100)\n",
    "print(error)\n",
    "#kf = KFold(n_splits = 2)\n",
    "#for train_index, test_index in kf.split(X):\n",
    "#    x_train, x_test = X[train_index], X[test_index]\n",
    "#    y_train, y_test = Y[train_index], Y[test_index]\n",
    "for i in range(max_d):\n",
    "    model, error[i] = do_regression(X, Y, i)\n",
    "\n",
    "print(error)"
   ]
  },
  {
   "cell_type": "code",
   "execution_count": null,
   "metadata": {},
   "outputs": [],
   "source": []
  }
 ],
 "metadata": {
  "kernelspec": {
   "display_name": "Python 3",
   "language": "python",
   "name": "python3"
  },
  "language_info": {
   "codemirror_mode": {
    "name": "ipython",
    "version": 3
   },
   "file_extension": ".py",
   "mimetype": "text/x-python",
   "name": "python",
   "nbconvert_exporter": "python",
   "pygments_lexer": "ipython3",
   "version": "3.7.1"
  }
 },
 "nbformat": 4,
 "nbformat_minor": 2
}
